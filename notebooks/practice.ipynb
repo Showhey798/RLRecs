{
 "cells": [
  {
   "cell_type": "code",
   "execution_count": 1,
   "metadata": {},
   "outputs": [],
   "source": [
    "%load_ext autoreload\n",
    "%autoreload 2"
   ]
  },
  {
   "cell_type": "code",
   "execution_count": 16,
   "metadata": {},
   "outputs": [],
   "source": [
    "import pandas as pd\n",
    "import numpy as np\n",
    "import sys\n",
    "sys.path.append(\"/home/inoue/work/RLRecs/\")\n",
    "from rlrecs.envs.dataset import session_preprocess_data"
   ]
  },
  {
   "cell_type": "code",
   "execution_count": 14,
   "metadata": {},
   "outputs": [
    {
     "name": "stderr",
     "output_type": "stream",
     "text": [
      "/tmp/ipykernel_790187/2431789433.py:1: DtypeWarning: Columns (3) have mixed types. Specify dtype option on import or set low_memory=False.\n",
      "  df = pd.read_csv(\"/home/inoue/work/dataset/RC15/yoochoose-clicks.dat\", sep=\",\", header=None)\n"
     ]
    },
    {
     "data": {
      "text/html": [
       "<div>\n",
       "<style scoped>\n",
       "    .dataframe tbody tr th:only-of-type {\n",
       "        vertical-align: middle;\n",
       "    }\n",
       "\n",
       "    .dataframe tbody tr th {\n",
       "        vertical-align: top;\n",
       "    }\n",
       "\n",
       "    .dataframe thead th {\n",
       "        text-align: right;\n",
       "    }\n",
       "</style>\n",
       "<table border=\"1\" class=\"dataframe\">\n",
       "  <thead>\n",
       "    <tr style=\"text-align: right;\">\n",
       "      <th></th>\n",
       "      <th>0</th>\n",
       "      <th>1</th>\n",
       "      <th>2</th>\n",
       "      <th>3</th>\n",
       "    </tr>\n",
       "  </thead>\n",
       "  <tbody>\n",
       "    <tr>\n",
       "      <th>0</th>\n",
       "      <td>1</td>\n",
       "      <td>2014-04-07T10:51:09.277Z</td>\n",
       "      <td>214536502</td>\n",
       "      <td>0</td>\n",
       "    </tr>\n",
       "    <tr>\n",
       "      <th>1</th>\n",
       "      <td>1</td>\n",
       "      <td>2014-04-07T10:54:09.868Z</td>\n",
       "      <td>214536500</td>\n",
       "      <td>0</td>\n",
       "    </tr>\n",
       "    <tr>\n",
       "      <th>2</th>\n",
       "      <td>1</td>\n",
       "      <td>2014-04-07T10:54:46.998Z</td>\n",
       "      <td>214536506</td>\n",
       "      <td>0</td>\n",
       "    </tr>\n",
       "    <tr>\n",
       "      <th>3</th>\n",
       "      <td>1</td>\n",
       "      <td>2014-04-07T10:57:00.306Z</td>\n",
       "      <td>214577561</td>\n",
       "      <td>0</td>\n",
       "    </tr>\n",
       "    <tr>\n",
       "      <th>4</th>\n",
       "      <td>2</td>\n",
       "      <td>2014-04-07T13:56:37.614Z</td>\n",
       "      <td>214662742</td>\n",
       "      <td>0</td>\n",
       "    </tr>\n",
       "    <tr>\n",
       "      <th>...</th>\n",
       "      <td>...</td>\n",
       "      <td>...</td>\n",
       "      <td>...</td>\n",
       "      <td>...</td>\n",
       "    </tr>\n",
       "    <tr>\n",
       "      <th>33003939</th>\n",
       "      <td>11299809</td>\n",
       "      <td>2014-09-25T09:33:22.412Z</td>\n",
       "      <td>214819412</td>\n",
       "      <td>S</td>\n",
       "    </tr>\n",
       "    <tr>\n",
       "      <th>33003940</th>\n",
       "      <td>11299809</td>\n",
       "      <td>2014-09-25T09:43:52.821Z</td>\n",
       "      <td>214830939</td>\n",
       "      <td>S</td>\n",
       "    </tr>\n",
       "    <tr>\n",
       "      <th>33003941</th>\n",
       "      <td>11299811</td>\n",
       "      <td>2014-09-24T19:02:09.741Z</td>\n",
       "      <td>214854855</td>\n",
       "      <td>S</td>\n",
       "    </tr>\n",
       "    <tr>\n",
       "      <th>33003942</th>\n",
       "      <td>11299811</td>\n",
       "      <td>2014-09-24T19:02:11.894Z</td>\n",
       "      <td>214854838</td>\n",
       "      <td>S</td>\n",
       "    </tr>\n",
       "    <tr>\n",
       "      <th>33003943</th>\n",
       "      <td>11299811</td>\n",
       "      <td>2014-09-24T19:02:25.146Z</td>\n",
       "      <td>214848658</td>\n",
       "      <td>S</td>\n",
       "    </tr>\n",
       "  </tbody>\n",
       "</table>\n",
       "<p>33003944 rows × 4 columns</p>\n",
       "</div>"
      ],
      "text/plain": [
       "                 0                         1          2  3\n",
       "0                1  2014-04-07T10:51:09.277Z  214536502  0\n",
       "1                1  2014-04-07T10:54:09.868Z  214536500  0\n",
       "2                1  2014-04-07T10:54:46.998Z  214536506  0\n",
       "3                1  2014-04-07T10:57:00.306Z  214577561  0\n",
       "4                2  2014-04-07T13:56:37.614Z  214662742  0\n",
       "...            ...                       ...        ... ..\n",
       "33003939  11299809  2014-09-25T09:33:22.412Z  214819412  S\n",
       "33003940  11299809  2014-09-25T09:43:52.821Z  214830939  S\n",
       "33003941  11299811  2014-09-24T19:02:09.741Z  214854855  S\n",
       "33003942  11299811  2014-09-24T19:02:11.894Z  214854838  S\n",
       "33003943  11299811  2014-09-24T19:02:25.146Z  214848658  S\n",
       "\n",
       "[33003944 rows x 4 columns]"
      ]
     },
     "execution_count": 14,
     "metadata": {},
     "output_type": "execute_result"
    }
   ],
   "source": [
    "df = pd.read_csv(\"/home/inoue/work/dataset/RC15/yoochoose-clicks.dat\", sep=\",\", header=None)\n",
    "df"
   ]
  },
  {
   "cell_type": "code",
   "execution_count": 15,
   "metadata": {},
   "outputs": [
    {
     "data": {
      "text/plain": [
       "9249729"
      ]
     },
     "execution_count": 15,
     "metadata": {},
     "output_type": "execute_result"
    }
   ],
   "source": [
    "df.columns = [\"sessionId\", \"timestamp\", \"itemId\", \"category\"]\n",
    "df[\"sessionId\"].nunique()"
   ]
  },
  {
   "cell_type": "code",
   "execution_count": 2,
   "metadata": {},
   "outputs": [],
   "source": [
    "from rlrecs.envs.dataset import DataLoader"
   ]
  },
  {
   "cell_type": "code",
   "execution_count": 1,
   "metadata": {},
   "outputs": [],
   "source": [
    "from jax import numpy as jnp\n",
    "import jax"
   ]
  },
  {
   "cell_type": "code",
   "execution_count": 2,
   "metadata": {},
   "outputs": [],
   "source": [
    "def recall_at_k(\n",
    "        y_trues: jnp.ndarray, # (batch_size, )\n",
    "        y_preds: jnp.ndarray, # (batch_size, k)\n",
    "        k : int=10\n",
    "):\n",
    "    @jax.vmap\n",
    "    def recall(\n",
    "        y_trues: jnp.ndarray, # (1, )\n",
    "        y_preds: jnp.ndarray, # (1, k)\n",
    "    ):\n",
    "        y_preds = y_preds[:k]\n",
    "        return jnp.sum(y_preds == y_trues)\n",
    "    return jnp.mean(recall(y_trues, y_preds))"
   ]
  },
  {
   "cell_type": "code",
   "execution_count": 3,
   "metadata": {},
   "outputs": [],
   "source": [
    "def ndcg_at_k(\n",
    "    y_trues: jnp.ndarray, \n",
    "    y_preds: jnp.ndarray,\n",
    "    k: int=10\n",
    "):\n",
    "    @jax.vmap\n",
    "    def ndcg(\n",
    "        y_trues: jnp.ndarray,\n",
    "        y_preds: jnp.ndarray\n",
    "    ):\n",
    "        dcg_score = jnp.where(y_trues == y_preds[:k])[0]\n",
    "        \n",
    "        return jnp.where(\n",
    "            dcg_score.shape[0] == 0, \n",
    "            0., \n",
    "            1. / jnp.log((dcg_score + 2))\n",
    "        )\n",
    "\n",
    "    return jnp.mean(ndcg(y_trues, y_preds))"
   ]
  },
  {
   "cell_type": "code",
   "execution_count": 4,
   "metadata": {},
   "outputs": [],
   "source": [
    "trues = jnp.asarray([1, 2, 4])\n",
    "preds = jnp.asarray([\n",
    "    [1, 2, 5],\n",
    "    [1, 3, 4],\n",
    "    [2, 4, 5],\n",
    "])"
   ]
  },
  {
   "cell_type": "code",
   "execution_count": 5,
   "metadata": {},
   "outputs": [
    {
     "data": {
      "text/plain": [
       "DeviceArray(0.6666667, dtype=float32)"
      ]
     },
     "execution_count": 5,
     "metadata": {},
     "output_type": "execute_result"
    }
   ],
   "source": [
    "recall_at_k(trues, preds, k=3)"
   ]
  },
  {
   "cell_type": "code",
   "execution_count": 6,
   "metadata": {},
   "outputs": [
    {
     "ename": "ConcretizationTypeError",
     "evalue": "Abstract tracer value encountered where concrete value is expected: Traced<ShapedArray(int32[])>with<BatchTrace(level=1/0)> with\n  val = DeviceArray([1, 0, 1], dtype=int32)\n  batch_dim = 0\nThe size argument of jnp.nonzero must be statically specified to use jnp.nonzero within JAX transformations.\nThis BatchTracer with object id 139836015628016 was created on line:\n  /tmp/ipykernel_847968/1468760333.py:11 (ndcg)\n\nSee https://jax.readthedocs.io/en/latest/errors.html#jax.errors.ConcretizationTypeError",
     "output_type": "error",
     "traceback": [
      "\u001b[0;31m---------------------------------------------------------------------------\u001b[0m",
      "\u001b[0;31mConcretizationTypeError\u001b[0m                   Traceback (most recent call last)",
      "Cell \u001b[0;32mIn [6], line 1\u001b[0m\n\u001b[0;32m----> 1\u001b[0m ndcg_at_k(trues, preds, k\u001b[39m=\u001b[39;49m\u001b[39m3\u001b[39;49m)\n",
      "Cell \u001b[0;32mIn [3], line 19\u001b[0m, in \u001b[0;36mndcg_at_k\u001b[0;34m(y_trues, y_preds, k)\u001b[0m\n\u001b[1;32m     11\u001b[0m     dcg_score \u001b[39m=\u001b[39m jnp\u001b[39m.\u001b[39mwhere(y_trues \u001b[39m==\u001b[39m y_preds[:k])[\u001b[39m0\u001b[39m]\n\u001b[1;32m     13\u001b[0m     \u001b[39mreturn\u001b[39;00m jnp\u001b[39m.\u001b[39mwhere(\n\u001b[1;32m     14\u001b[0m         dcg_score\u001b[39m.\u001b[39mshape[\u001b[39m0\u001b[39m] \u001b[39m==\u001b[39m \u001b[39m0\u001b[39m, \n\u001b[1;32m     15\u001b[0m         \u001b[39m0.\u001b[39m, \n\u001b[1;32m     16\u001b[0m         \u001b[39m1.\u001b[39m \u001b[39m/\u001b[39m jnp\u001b[39m.\u001b[39mlog((dcg_score \u001b[39m+\u001b[39m \u001b[39m2\u001b[39m))\n\u001b[1;32m     17\u001b[0m     )\n\u001b[0;32m---> 19\u001b[0m \u001b[39mreturn\u001b[39;00m jnp\u001b[39m.\u001b[39mmean(ndcg(y_trues, y_preds))\n",
      "    \u001b[0;31m[... skipping hidden 3 frame]\u001b[0m\n",
      "Cell \u001b[0;32mIn [3], line 11\u001b[0m, in \u001b[0;36mndcg_at_k.<locals>.ndcg\u001b[0;34m(y_trues, y_preds)\u001b[0m\n\u001b[1;32m      6\u001b[0m \u001b[39m@jax\u001b[39m\u001b[39m.\u001b[39mvmap\n\u001b[1;32m      7\u001b[0m \u001b[39mdef\u001b[39;00m \u001b[39mndcg\u001b[39m(\n\u001b[1;32m      8\u001b[0m     y_trues: jnp\u001b[39m.\u001b[39mndarray,\n\u001b[1;32m      9\u001b[0m     y_preds: jnp\u001b[39m.\u001b[39mndarray\n\u001b[1;32m     10\u001b[0m ):\n\u001b[0;32m---> 11\u001b[0m     dcg_score \u001b[39m=\u001b[39m jnp\u001b[39m.\u001b[39;49mwhere(y_trues \u001b[39m==\u001b[39;49m y_preds[:k])[\u001b[39m0\u001b[39m]\n\u001b[1;32m     13\u001b[0m     \u001b[39mreturn\u001b[39;00m jnp\u001b[39m.\u001b[39mwhere(\n\u001b[1;32m     14\u001b[0m         dcg_score\u001b[39m.\u001b[39mshape[\u001b[39m0\u001b[39m] \u001b[39m==\u001b[39m \u001b[39m0\u001b[39m, \n\u001b[1;32m     15\u001b[0m         \u001b[39m0.\u001b[39m, \n\u001b[1;32m     16\u001b[0m         \u001b[39m1.\u001b[39m \u001b[39m/\u001b[39m jnp\u001b[39m.\u001b[39mlog((dcg_score \u001b[39m+\u001b[39m \u001b[39m2\u001b[39m))\n\u001b[1;32m     17\u001b[0m     )\n",
      "File \u001b[0;32m/usr/local/lib/python3.8/dist-packages/jax/_src/numpy/lax_numpy.py:1077\u001b[0m, in \u001b[0;36mwhere\u001b[0;34m(condition, x, y, size, fill_value)\u001b[0m\n\u001b[1;32m   1075\u001b[0m \u001b[39mif\u001b[39;00m x \u001b[39mis\u001b[39;00m \u001b[39mNone\u001b[39;00m \u001b[39mand\u001b[39;00m y \u001b[39mis\u001b[39;00m \u001b[39mNone\u001b[39;00m:\n\u001b[1;32m   1076\u001b[0m   _check_arraylike(\u001b[39m\"\u001b[39m\u001b[39mwhere\u001b[39m\u001b[39m\"\u001b[39m, condition)\n\u001b[0;32m-> 1077\u001b[0m   \u001b[39mreturn\u001b[39;00m nonzero(condition, size\u001b[39m=\u001b[39;49msize, fill_value\u001b[39m=\u001b[39;49mfill_value)\n\u001b[1;32m   1078\u001b[0m \u001b[39melse\u001b[39;00m:\n\u001b[1;32m   1079\u001b[0m   _check_arraylike(\u001b[39m\"\u001b[39m\u001b[39mwhere\u001b[39m\u001b[39m\"\u001b[39m, condition, x, y)\n",
      "File \u001b[0;32m/usr/local/lib/python3.8/dist-packages/jax/_src/numpy/lax_numpy.py:1332\u001b[0m, in \u001b[0;36mnonzero\u001b[0;34m(***failed resolving arguments***)\u001b[0m\n\u001b[1;32m   1330\u001b[0m \u001b[39mif\u001b[39;00m size \u001b[39mis\u001b[39;00m \u001b[39mNone\u001b[39;00m:\n\u001b[1;32m   1331\u001b[0m   size \u001b[39m=\u001b[39m mask\u001b[39m.\u001b[39msum()\n\u001b[0;32m-> 1332\u001b[0m size \u001b[39m=\u001b[39m core\u001b[39m.\u001b[39;49mconcrete_or_error(operator\u001b[39m.\u001b[39;49mindex, size,\n\u001b[1;32m   1333\u001b[0m   \u001b[39m\"\u001b[39;49m\u001b[39mThe size argument of jnp.nonzero must be statically specified \u001b[39;49m\u001b[39m\"\u001b[39;49m\n\u001b[1;32m   1334\u001b[0m   \u001b[39m\"\u001b[39;49m\u001b[39mto use jnp.nonzero within JAX transformations.\u001b[39;49m\u001b[39m\"\u001b[39;49m)\n\u001b[1;32m   1335\u001b[0m \u001b[39mif\u001b[39;00m arr\u001b[39m.\u001b[39msize \u001b[39m==\u001b[39m \u001b[39m0\u001b[39m \u001b[39mor\u001b[39;00m size \u001b[39m==\u001b[39m \u001b[39m0\u001b[39m:\n\u001b[1;32m   1336\u001b[0m   \u001b[39mreturn\u001b[39;00m \u001b[39mtuple\u001b[39m(zeros(size, \u001b[39mint\u001b[39m) \u001b[39mfor\u001b[39;00m dim \u001b[39min\u001b[39;00m arr\u001b[39m.\u001b[39mshape)\n",
      "File \u001b[0;32m/usr/local/lib/python3.8/dist-packages/jax/core.py:1278\u001b[0m, in \u001b[0;36mconcrete_or_error\u001b[0;34m(force, val, context)\u001b[0m\n\u001b[1;32m   1276\u001b[0m     \u001b[39mreturn\u001b[39;00m force(val\u001b[39m.\u001b[39maval\u001b[39m.\u001b[39mval)\n\u001b[1;32m   1277\u001b[0m   \u001b[39melse\u001b[39;00m:\n\u001b[0;32m-> 1278\u001b[0m     \u001b[39mraise\u001b[39;00m ConcretizationTypeError(val, context)\n\u001b[1;32m   1279\u001b[0m \u001b[39melse\u001b[39;00m:\n\u001b[1;32m   1280\u001b[0m   \u001b[39mreturn\u001b[39;00m force(val)\n",
      "\u001b[0;31mConcretizationTypeError\u001b[0m: Abstract tracer value encountered where concrete value is expected: Traced<ShapedArray(int32[])>with<BatchTrace(level=1/0)> with\n  val = DeviceArray([1, 0, 1], dtype=int32)\n  batch_dim = 0\nThe size argument of jnp.nonzero must be statically specified to use jnp.nonzero within JAX transformations.\nThis BatchTracer with object id 139836015628016 was created on line:\n  /tmp/ipykernel_847968/1468760333.py:11 (ndcg)\n\nSee https://jax.readthedocs.io/en/latest/errors.html#jax.errors.ConcretizationTypeError"
     ]
    }
   ],
   "source": [
    "ndcg_at_k(trues, preds, k=3)"
   ]
  },
  {
   "cell_type": "code",
   "execution_count": null,
   "metadata": {},
   "outputs": [],
   "source": []
  }
 ],
 "metadata": {
  "kernelspec": {
   "display_name": "Python 3.8.10 64-bit",
   "language": "python",
   "name": "python3"
  },
  "language_info": {
   "codemirror_mode": {
    "name": "ipython",
    "version": 3
   },
   "file_extension": ".py",
   "mimetype": "text/x-python",
   "name": "python",
   "nbconvert_exporter": "python",
   "pygments_lexer": "ipython3",
   "version": "3.8.10"
  },
  "orig_nbformat": 4,
  "vscode": {
   "interpreter": {
    "hash": "31f2aee4e71d21fbe5cf8b01ff0e069b9275f58929596ceb00d14d90e3e16cd6"
   }
  }
 },
 "nbformat": 4,
 "nbformat_minor": 2
}
