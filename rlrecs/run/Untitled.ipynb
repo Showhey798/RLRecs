{
 "cells": [
  {
   "cell_type": "code",
   "execution_count": 10,
   "id": "2422e76a-4395-4435-a9b3-91cad8dcc177",
   "metadata": {},
   "outputs": [
    {
     "data": {
      "text/html": [
       "<div>\n",
       "<style scoped>\n",
       "    .dataframe tbody tr th:only-of-type {\n",
       "        vertical-align: middle;\n",
       "    }\n",
       "\n",
       "    .dataframe tbody tr th {\n",
       "        vertical-align: top;\n",
       "    }\n",
       "\n",
       "    .dataframe thead th {\n",
       "        text-align: right;\n",
       "    }\n",
       "</style>\n",
       "<table border=\"1\" class=\"dataframe\">\n",
       "  <thead>\n",
       "    <tr style=\"text-align: right;\">\n",
       "      <th></th>\n",
       "      <th>0</th>\n",
       "      <th>1</th>\n",
       "      <th>2</th>\n",
       "      <th>3</th>\n",
       "      <th>4</th>\n",
       "    </tr>\n",
       "  </thead>\n",
       "  <tbody>\n",
       "    <tr>\n",
       "      <th>0</th>\n",
       "      <td>420374</td>\n",
       "      <td>2014-04-06T18:44:58.314Z</td>\n",
       "      <td>214537888</td>\n",
       "      <td>12462</td>\n",
       "      <td>1</td>\n",
       "    </tr>\n",
       "    <tr>\n",
       "      <th>1</th>\n",
       "      <td>420374</td>\n",
       "      <td>2014-04-06T18:44:58.325Z</td>\n",
       "      <td>214537850</td>\n",
       "      <td>10471</td>\n",
       "      <td>1</td>\n",
       "    </tr>\n",
       "    <tr>\n",
       "      <th>2</th>\n",
       "      <td>281626</td>\n",
       "      <td>2014-04-06T09:40:13.032Z</td>\n",
       "      <td>214535653</td>\n",
       "      <td>1883</td>\n",
       "      <td>1</td>\n",
       "    </tr>\n",
       "    <tr>\n",
       "      <th>3</th>\n",
       "      <td>420368</td>\n",
       "      <td>2014-04-04T06:13:28.848Z</td>\n",
       "      <td>214530572</td>\n",
       "      <td>6073</td>\n",
       "      <td>1</td>\n",
       "    </tr>\n",
       "    <tr>\n",
       "      <th>4</th>\n",
       "      <td>420368</td>\n",
       "      <td>2014-04-04T06:13:28.858Z</td>\n",
       "      <td>214835025</td>\n",
       "      <td>2617</td>\n",
       "      <td>1</td>\n",
       "    </tr>\n",
       "    <tr>\n",
       "      <th>...</th>\n",
       "      <td>...</td>\n",
       "      <td>...</td>\n",
       "      <td>...</td>\n",
       "      <td>...</td>\n",
       "      <td>...</td>\n",
       "    </tr>\n",
       "    <tr>\n",
       "      <th>1150748</th>\n",
       "      <td>11368701</td>\n",
       "      <td>2014-09-26T07:52:51.357Z</td>\n",
       "      <td>214849809</td>\n",
       "      <td>554</td>\n",
       "      <td>2</td>\n",
       "    </tr>\n",
       "    <tr>\n",
       "      <th>1150749</th>\n",
       "      <td>11368691</td>\n",
       "      <td>2014-09-25T09:37:44.206Z</td>\n",
       "      <td>214700002</td>\n",
       "      <td>6806</td>\n",
       "      <td>5</td>\n",
       "    </tr>\n",
       "    <tr>\n",
       "      <th>1150750</th>\n",
       "      <td>11523941</td>\n",
       "      <td>2014-09-25T06:14:47.965Z</td>\n",
       "      <td>214578011</td>\n",
       "      <td>14556</td>\n",
       "      <td>1</td>\n",
       "    </tr>\n",
       "    <tr>\n",
       "      <th>1150751</th>\n",
       "      <td>11423202</td>\n",
       "      <td>2014-09-26T18:49:34.024Z</td>\n",
       "      <td>214849164</td>\n",
       "      <td>1046</td>\n",
       "      <td>1</td>\n",
       "    </tr>\n",
       "    <tr>\n",
       "      <th>1150752</th>\n",
       "      <td>11423202</td>\n",
       "      <td>2014-09-26T18:49:34.026Z</td>\n",
       "      <td>214560500</td>\n",
       "      <td>5549</td>\n",
       "      <td>1</td>\n",
       "    </tr>\n",
       "  </tbody>\n",
       "</table>\n",
       "<p>1150753 rows × 5 columns</p>\n",
       "</div>"
      ],
      "text/plain": [
       "                0                         1          2      3  4\n",
       "0          420374  2014-04-06T18:44:58.314Z  214537888  12462  1\n",
       "1          420374  2014-04-06T18:44:58.325Z  214537850  10471  1\n",
       "2          281626  2014-04-06T09:40:13.032Z  214535653   1883  1\n",
       "3          420368  2014-04-04T06:13:28.848Z  214530572   6073  1\n",
       "4          420368  2014-04-04T06:13:28.858Z  214835025   2617  1\n",
       "...           ...                       ...        ...    ... ..\n",
       "1150748  11368701  2014-09-26T07:52:51.357Z  214849809    554  2\n",
       "1150749  11368691  2014-09-25T09:37:44.206Z  214700002   6806  5\n",
       "1150750  11523941  2014-09-25T06:14:47.965Z  214578011  14556  1\n",
       "1150751  11423202  2014-09-26T18:49:34.024Z  214849164   1046  1\n",
       "1150752  11423202  2014-09-26T18:49:34.026Z  214560500   5549  1\n",
       "\n",
       "[1150753 rows x 5 columns]"
      ]
     },
     "execution_count": 10,
     "metadata": {},
     "output_type": "execute_result"
    }
   ],
   "source": [
    "import pandas as pd\n",
    "\n",
    "df = pd.read_csv(\"~/work/dataset/RC15/yoochoose-buys.dat\", sep=\",\", header=None)\n",
    "df"
   ]
  },
  {
   "cell_type": "code",
   "execution_count": 5,
   "id": "857e2776-23f0-4bce-bcc7-86f0af55f4d9",
   "metadata": {},
   "outputs": [],
   "source": [
    "from flax import linen as nn\n",
    "from jax import numpy as jnp\n",
    "import numpy as np\n",
    "import jax\n",
    "import flax\n",
    "\n",
    "class NormalGRU(nn.Module):\n",
    "    hidden_dim: int\n",
    "    dropout_rate : float\n",
    "    @nn.compact\n",
    "    def __call__(\n",
    "        self, \n",
    "        q:jnp.ndarray, # (batch_size, seq_len), アイテム\n",
    "    ):\n",
    "        \n",
    "        carry = self.param(\"init_carry\", lambda rng, shape: jnp.zeros(shape), self.hidden_dim)\n",
    "        \n",
    "        for i in range(q.shape[1]):\n",
    "            carry, out = nn.GRUCell()(carry, q[:, i, :])\n",
    "        \n",
    "        #output = nn.Dense(1)(carry)\n",
    "        return carry, out"
   ]
  },
  {
   "cell_type": "code",
   "execution_count": 6,
   "id": "b1e990d4-2069-421a-a678-049d04537159",
   "metadata": {},
   "outputs": [
    {
     "data": {
      "text/plain": [
       "DeviceArray([[[-6.6552585e-01, -8.0536044e-01, -2.7475157e+00,\n",
       "               -4.7615182e-01],\n",
       "              [ 6.3546067e-01,  2.3215576e-03, -1.0808130e-01,\n",
       "               -1.0878880e+00]],\n",
       "\n",
       "             [[-6.9108629e-01,  9.8934972e-01,  7.4207038e-01,\n",
       "                6.0069878e-02],\n",
       "              [ 3.4648937e-01, -2.7497369e-01, -1.9377939e+00,\n",
       "               -9.3766487e-01]],\n",
       "\n",
       "             [[-6.2804383e-01,  1.1748193e-02,  2.0391178e+00,\n",
       "                4.1310093e-01],\n",
       "              [ 6.7216545e-01, -1.7155396e+00,  3.4572795e-02,\n",
       "                1.3146477e+00]],\n",
       "\n",
       "             [[ 6.0303673e-02,  3.4236613e-01, -6.0134846e-01,\n",
       "               -7.7926105e-01],\n",
       "              [-1.0060278e+00, -7.3032057e-01,  5.8969802e-01,\n",
       "                1.6912601e+00]],\n",
       "\n",
       "             [[ 8.4735954e-01, -2.9250801e-01, -2.8486779e-01,\n",
       "               -9.7763616e-01],\n",
       "              [ 1.7288361e+00, -1.4076442e+00,  5.6083947e-01,\n",
       "               -1.3720120e+00]]], dtype=float32)"
      ]
     },
     "execution_count": 6,
     "metadata": {},
     "output_type": "execute_result"
    }
   ],
   "source": [
    "key = jax.random.PRNGKey(0)\n",
    "rng, key = jax.random.split(key)\n",
    "a = jax.random.normal(key, (5, 2, 4))\n",
    "a"
   ]
  },
  {
   "cell_type": "code",
   "execution_count": 7,
   "id": "4863df1f-e7b1-49cf-9463-09385ad56f99",
   "metadata": {},
   "outputs": [],
   "source": [
    "rng, key = jax.random.split(rng)\n",
    "model = NormalGRU(10, 0.2)\n",
    "params = model.init(key, a)[\"params\"]"
   ]
  },
  {
   "cell_type": "code",
   "execution_count": 8,
   "id": "faf8bf34-882b-46ab-afa2-b79255df937a",
   "metadata": {},
   "outputs": [
    {
     "data": {
      "text/plain": [
       "(DeviceArray([[ 0.24692631,  0.49412495,  0.4746471 , -0.32867706,\n",
       "               -0.13564254, -0.15415218, -0.19948936,  0.11361546,\n",
       "               -0.7855797 , -0.1430701 ],\n",
       "              [-0.3002967 , -0.512416  ,  0.10101941, -0.24048063,\n",
       "                0.23212117, -0.2228501 ,  0.330711  , -0.21408081,\n",
       "               -0.09280246, -0.19987902],\n",
       "              [-0.02015809, -0.5048353 , -0.82930255,  0.62537503,\n",
       "                0.2861167 , -0.0401026 , -0.5663145 , -0.3203154 ,\n",
       "                0.09992053,  0.9088545 ],\n",
       "              [-0.21178085, -0.35982224, -0.38087508, -0.0109929 ,\n",
       "               -0.64698297,  0.45345804, -0.79816103, -0.25303644,\n",
       "                0.23362584,  0.53609204],\n",
       "              [ 0.2844317 ,  0.18422572, -0.04782872, -0.3885925 ,\n",
       "                0.4353066 , -0.2508729 ,  0.11873263, -0.6231649 ,\n",
       "               -0.5470435 ,  0.631553  ]], dtype=float32),\n",
       " DeviceArray([[ 0.24692631,  0.49412495,  0.4746471 , -0.32867706,\n",
       "               -0.13564254, -0.15415218, -0.19948936,  0.11361546,\n",
       "               -0.7855797 , -0.1430701 ],\n",
       "              [-0.3002967 , -0.512416  ,  0.10101941, -0.24048063,\n",
       "                0.23212117, -0.2228501 ,  0.330711  , -0.21408081,\n",
       "               -0.09280246, -0.19987902],\n",
       "              [-0.02015809, -0.5048353 , -0.82930255,  0.62537503,\n",
       "                0.2861167 , -0.0401026 , -0.5663145 , -0.3203154 ,\n",
       "                0.09992053,  0.9088545 ],\n",
       "              [-0.21178085, -0.35982224, -0.38087508, -0.0109929 ,\n",
       "               -0.64698297,  0.45345804, -0.79816103, -0.25303644,\n",
       "                0.23362584,  0.53609204],\n",
       "              [ 0.2844317 ,  0.18422572, -0.04782872, -0.3885925 ,\n",
       "                0.4353066 , -0.2508729 ,  0.11873263, -0.6231649 ,\n",
       "               -0.5470435 ,  0.631553  ]], dtype=float32))"
      ]
     },
     "execution_count": 8,
     "metadata": {},
     "output_type": "execute_result"
    }
   ],
   "source": [
    "model.apply({\"params\":params}, a)"
   ]
  },
  {
   "cell_type": "code",
   "execution_count": 9,
   "id": "d7d10cb4-0d8e-47b6-acbe-31d39dbcf411",
   "metadata": {},
   "outputs": [
    {
     "data": {
      "text/plain": [
       "<bound method Module.param of NormalGRU(\n",
       "    # attributes\n",
       "    hidden_dim = 10\n",
       "    dropout_rate = 0.2\n",
       ")>"
      ]
     },
     "execution_count": 9,
     "metadata": {},
     "output_type": "execute_result"
    }
   ],
   "source": [
    "model.param.ini"
   ]
  },
  {
   "cell_type": "code",
   "execution_count": null,
   "id": "7c9a7822-9ec3-4da9-ada2-ac72b63c4484",
   "metadata": {},
   "outputs": [],
   "source": []
  }
 ],
 "metadata": {
  "kernelspec": {
   "display_name": "Python 3 (ipykernel)",
   "language": "python",
   "name": "python3"
  },
  "language_info": {
   "codemirror_mode": {
    "name": "ipython",
    "version": 3
   },
   "file_extension": ".py",
   "mimetype": "text/x-python",
   "name": "python",
   "nbconvert_exporter": "python",
   "pygments_lexer": "ipython3",
   "version": "3.8.10"
  }
 },
 "nbformat": 4,
 "nbformat_minor": 5
}
