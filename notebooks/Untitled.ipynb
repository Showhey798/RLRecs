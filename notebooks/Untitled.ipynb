{
 "cells": [
  {
   "cell_type": "code",
   "execution_count": 1,
   "id": "e9775058-820e-4951-9d58-fc121672e216",
   "metadata": {},
   "outputs": [],
   "source": [
    "import sys\n",
    "sys.path.append(\"..\")\n",
    "\n",
    "from rlrecs.envs.dataset import DataLoader\n",
    "import pickle"
   ]
  },
  {
   "cell_type": "code",
   "execution_count": 9,
   "id": "09847ae9-f832-46f1-94a6-4cf82a6b51ba",
   "metadata": {},
   "outputs": [
    {
     "data": {
      "text/plain": [
       "{'state': array([[    0,     0,     0, ...,     0,     0,  5250],\n",
       "        [    0,     0,     0, ...,     0,  5250,  6944],\n",
       "        [    0,     0,     0, ...,  5250,  6944, 10932],\n",
       "        ...,\n",
       "        [    0,     0,     0, ...,     0, 25726, 26354],\n",
       "        [    0,     0,     0, ..., 25726, 26354, 27548],\n",
       "        [    0,     0,     0, ..., 26354, 27548, 27560]], dtype=int32),\n",
       " 'feedabck': array([[1, 1, 1, ..., 1, 1, 1],\n",
       "        [1, 1, 1, ..., 1, 1, 1],\n",
       "        [1, 1, 1, ..., 1, 1, 1],\n",
       "        ...,\n",
       "        [1, 1, 1, ..., 1, 1, 1],\n",
       "        [1, 1, 1, ..., 1, 1, 1],\n",
       "        [1, 1, 1, ..., 1, 1, 1]], dtype=int32),\n",
       " 'action': array([ 6944, 10932, 16274, ..., 27548, 27560, 27758], dtype=int32),\n",
       " 'n_state': array([[    0,     0,     0, ...,     0,  5250,  6944],\n",
       "        [    0,     0,     0, ...,  5250,  6944, 10932],\n",
       "        [    0,     0,     0, ...,  6944, 10932, 16274],\n",
       "        ...,\n",
       "        [    0,     0,     0, ..., 25726, 26354, 27548],\n",
       "        [    0,     0,     0, ..., 26354, 27548, 27560],\n",
       "        [    0,     0,     0, ..., 27548, 27560, 27758]], dtype=int32),\n",
       " 'n_feedback': array([[1, 1, 1, ..., 1, 1, 1],\n",
       "        [1, 1, 1, ..., 1, 1, 1],\n",
       "        [1, 1, 1, ..., 1, 1, 1],\n",
       "        ...,\n",
       "        [1, 1, 1, ..., 1, 1, 1],\n",
       "        [1, 1, 1, ..., 1, 1, 1],\n",
       "        [1, 1, 1, ..., 1, 1, 1]], dtype=int32),\n",
       " 'reward': array([ 6944., 10932., 16274., ..., 27548., 27560., 27758.], dtype=float32),\n",
       " 'done': array([ 6944., 10932., 16274., ..., 27548., 27560., 27758.], dtype=float32)}"
      ]
     },
     "execution_count": 9,
     "metadata": {},
     "output_type": "execute_result"
    }
   ],
   "source": [
    "with open(\"/home/inoue/work/dataset/RC15/derived/train_valid.df\", \"rb\") as f:\n",
    "    train_data = pickle.load(f)\n",
    "train_data"
   ]
  },
  {
   "cell_type": "code",
   "execution_count": 10,
   "id": "cb42d611-b833-4701-99ee-877b82b222e7",
   "metadata": {},
   "outputs": [
    {
     "data": {
      "text/plain": [
       "[(1045194, 10),\n",
       " (1045194, 10),\n",
       " (1045194,),\n",
       " (1045194, 10),\n",
       " (1045194, 10),\n",
       " (1045194,),\n",
       " (1045194,)]"
      ]
     },
     "execution_count": 10,
     "metadata": {},
     "output_type": "execute_result"
    }
   ],
   "source": [
    "[train_data[key].shape for key in train_data.keys()]"
   ]
  },
  {
   "cell_type": "code",
   "execution_count": null,
   "id": "f78e65a1-ef30-4cbd-a078-88b144400d96",
   "metadata": {},
   "outputs": [],
   "source": []
  }
 ],
 "metadata": {
  "kernelspec": {
   "display_name": "Python 3 (ipykernel)",
   "language": "python",
   "name": "python3"
  },
  "language_info": {
   "codemirror_mode": {
    "name": "ipython",
    "version": 3
   },
   "file_extension": ".py",
   "mimetype": "text/x-python",
   "name": "python",
   "nbconvert_exporter": "python",
   "pygments_lexer": "ipython3",
   "version": "3.8.10"
  }
 },
 "nbformat": 4,
 "nbformat_minor": 5
}
